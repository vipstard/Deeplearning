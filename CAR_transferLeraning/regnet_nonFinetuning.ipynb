{
  "nbformat": 4,
  "nbformat_minor": 0,
  "metadata": {
    "accelerator": "GPU",
    "colab": {
      "name": "regnet_nonFinetuning",
      "provenance": [],
      "collapsed_sections": []
    },
    "kernelspec": {
      "display_name": "Python 3",
      "name": "python3"
    },
    "language_info": {
      "name": "python"
    }
  },
  "cells": [
    {
      "cell_type": "code",
      "metadata": {
        "id": "mN5J4sXtOw2L"
      },
      "source": [
        "from __future__ import print_function, division\n",
        "import torch\n",
        "import torch.nn as nn #파이토치 nn모듈 임포트\n",
        "import torch.optim as optim # PyTorch optim패키지 임포트\n",
        "from torch.optim import lr_scheduler # 학습률 스케쥴러 임포트\n",
        "import numpy as np # 넘파이 임포트\n",
        "import torchvision \n",
        "from torchvision import datasets, models, transforms\n",
        "import matplotlib.pyplot as plt\n",
        "import time\n",
        "import os\n",
        "import copy\n",
        "\n",
        "plt.ion()   # 대화형 모드"
      ],
      "execution_count": null,
      "outputs": []
    },
    {
      "cell_type": "code",
      "metadata": {
        "colab": {
          "base_uri": "https://localhost:8080/"
        },
        "id": "aYGhrFUm5qL7",
        "outputId": "218e9e31-d442-47a3-f2c4-2535f5c8f9b9"
      },
      "source": [
        "from google.colab import drive\n",
        "drive.mount('/content/drive')"
      ],
      "execution_count": null,
      "outputs": [
        {
          "output_type": "stream",
          "name": "stdout",
          "text": [
            "Drive already mounted at /content/drive; to attempt to forcibly remount, call drive.mount(\"/content/drive\", force_remount=True).\n"
          ]
        }
      ]
    },
    {
      "cell_type": "code",
      "metadata": {
        "id": "_LqGoWY1PuI0"
      },
      "source": [
        "#pip install split-folders tqdm  # train ,val, test 데이터 분리를 위한 split-folders 설치"
      ],
      "execution_count": null,
      "outputs": []
    },
    {
      "cell_type": "code",
      "metadata": {
        "id": "6LV4H0WBP4Wi"
      },
      "source": [
        "#import splitfolders \n",
        "#splitfolders.ratio('/content/drive/MyDrive/CARS', output=\"/content/drive/MyDrive/CARC\", seed=77, ratio=(.8, 0.1, 0.1)) # train : val : test  8:1:1 비율로 나눠서 새로운 경로에 저장 "
      ],
      "execution_count": null,
      "outputs": []
    },
    {
      "cell_type": "code",
      "metadata": {
        "id": "Vvp22sVW-T4T"
      },
      "source": [
        "# 학습을 위해 데이터 증가(augmentation) 및 일반화(normalization)\n",
        "# 검증을 위한 일반화\n",
        "\n",
        "data_transforms = {\n",
        "    'train': transforms.Compose([  # 이미지 변형시키기\n",
        "       transforms.Resize((224, 224)),\n",
        "       transforms.RandomCrop(150), # 랜덤으로 자름\n",
        "       transforms.ColorJitter(brightness=0.2, contrast=0.2, saturation=0.2, hue=0.2), # 색 변조\n",
        "        transforms.RandomHorizontalFlip(p = 1), # 수평으로 이미지 뒤집기\n",
        "        transforms.ToTensor(), # 이미지 데이터를 tensor로 바꿔준다.\n",
        "        transforms.Normalize([0.485, 0.456, 0.406], [0.229, 0.224, 0.225]) # 이미지 정규화\n",
        "    ]),\n",
        "    'val': transforms.Compose([\n",
        "        transforms.Resize((224, 224)), # 이미지 사이즈를 resize로 변경한다.\n",
        "        #transforms.CenterCrop(200), # 이미지 중앙을 resize × resize로 자른다\n",
        "        transforms.ToTensor(), # 이미지 데이터를 tensor로 바꿔준다.\n",
        "        transforms.Normalize([0.485, 0.456, 0.406], [0.229, 0.224, 0.225]) # 이미지 정규화\n",
        "        \n",
        "    ]),\n",
        "\n",
        "    'test': transforms.Compose([\n",
        "        transforms.Resize((224, 224)), # 이미지 사이즈를 resize로 변경한다.\n",
        "        #transforms.CenterCrop(200), # 이미지 중앙을 resize × resize로 자른다\n",
        "        transforms.ToTensor(), # 이미지 데이터를 tensor로 바꿔준다.\n",
        "        transforms.Normalize([0.485, 0.456, 0.406], [0.229, 0.224, 0.225]) # 이미지 정규화\n",
        "        \n",
        "    ]),\n",
        "\n",
        "\n",
        "}\n",
        "\n",
        "data_dir = '/content/drive/MyDrive/CARC' # train, val, test 경로설정\n",
        "\n",
        "image_datasets = {x: datasets.ImageFolder(os.path.join(data_dir, x), # 설정한 경로에서 이미지를 가져오고 리사이즈에서 데이터저장\n",
        "                                          data_transforms[x])\n",
        "                  for x in ['train', 'val','test']}\n",
        "dataloaders = {x: torch.utils.data.DataLoader(image_datasets[x], batch_size=32, # 배치사이즈 32\n",
        "                                             shuffle=True, num_workers=2)\n",
        "              for x in ['train', 'val', 'test']}\n",
        "dataset_sizes = {x: len(image_datasets[x]) for x in ['train', 'val']}\n",
        "class_names = image_datasets['train'].classes\n",
        "\n",
        "device = torch.device(\"cuda:0\" if torch.cuda.is_available() else \"cpu\") # gpu사용불가면 cpu를 사용."
      ],
      "execution_count": null,
      "outputs": []
    },
    {
      "cell_type": "code",
      "metadata": {
        "id": "_dlEVB8u-dwN"
      },
      "source": [
        "def imshow(inp, title=None): # 사용할 이미지의 일부를 보여줌(train)\n",
        "    \"\"\"Imshow for Tensor.\"\"\"\n",
        "    inp = inp.numpy().transpose((1, 2, 0))\n",
        "    mean = np.array([0.485, 0.456, 0.406])\n",
        "    std = np.array([0.229, 0.224, 0.225])\n",
        "    inp = std * inp + mean\n",
        "    inp = np.clip(inp, 0, 1)\n",
        "    plt.imshow(inp)\n",
        "    if title is not None:\n",
        "        plt.title(title)\n",
        "    plt.pause(0.001)  \n",
        "\n",
        "inputs, classes = next(iter(dataloaders['train'])) # 학습 데이터의 배치를 얻습니다.\n",
        "out = torchvision.utils.make_grid(inputs) # 배치로부터 격자 형태의 이미지를 만듭니다.\n",
        "\n",
        "imshow(out, title=[class_names[x] for x in classes]) # 이미지 보여주기\n"
      ],
      "execution_count": null,
      "outputs": []
    },
    {
      "cell_type": "code",
      "metadata": {
        "id": "mHmKWZ1VM2Il"
      },
      "source": [
        "def imshow(inp, title=None): # 사용할 이미지의 일부를 보여줌(val)\n",
        "    \"\"\"Imshow for Tensor.\"\"\"\n",
        "    inp = inp.numpy().transpose((1, 2, 0))\n",
        "    mean = np.array([0.485, 0.456, 0.406])\n",
        "    std = np.array([0.229, 0.224, 0.225])\n",
        "    inp = std * inp + mean\n",
        "    inp = np.clip(inp, 0, 1)\n",
        "    plt.imshow(inp)\n",
        "    if title is not None:\n",
        "        plt.title(title)\n",
        "    plt.pause(0.001)  \n",
        "\n",
        "inputs, classes = next(iter(dataloaders['val'])) # 학습 데이터의 배치를 얻습니다.\n",
        "out = torchvision.utils.make_grid(inputs) # 배치로부터 격자 형태의 이미지를 만듭니다.\n",
        "\n",
        "imshow(out, title=[class_names[x] for x in classes]) # 이미지 보여주기\n"
      ],
      "execution_count": null,
      "outputs": []
    },
    {
      "cell_type": "code",
      "metadata": {
        "id": "K3vJzO8jCR_J"
      },
      "source": [
        "def visualize_model(model, num_images=6): # val 일부이미지에대한 예측값을 보여주는 함수\n",
        "    was_training = model.training\n",
        "    model.eval() # 모델을 검증모드로\n",
        "    images_so_far = 0\n",
        "    fig = plt.figure() #figure를 만들고 편집 할 수 있게 만들어주는 함수\n",
        "\n",
        "    with torch.no_grad():\n",
        "        for i, (inputs, labels) in enumerate(dataloaders['val']):\n",
        "            inputs = inputs.to(device)\n",
        "            labels = labels.to(device)\n",
        "\n",
        "            outputs = model(inputs)\n",
        "            _, preds = torch.max(outputs, 1)\n",
        "\n",
        "            for j in range(inputs.size()[0]):\n",
        "                images_so_far += 1\n",
        "                ax = plt.subplot(num_images//2, 2, images_so_far)\n",
        "                ax.axis('off')\n",
        "                ax.set_title('predicted: {}'.format(class_names[preds[j]])) # 가장 높은확률의 이름 출력\n",
        "                imshow(inputs.cpu().data[j]) # 예측하려고 입력된 이미지 보여주기\n",
        "\n",
        "                if images_so_far == num_images:\n",
        "                    model.train(mode=was_training)\n",
        "                    return\n",
        "        model.train(mode=was_training)"
      ],
      "execution_count": null,
      "outputs": []
    },
    {
      "cell_type": "code",
      "metadata": {
        "id": "LveXsxSECUBE"
      },
      "source": [
        "#pip install efficientnet_pytorch\n",
        "model = models.regnet_x_32gf(pretrained=True) # models 사용가능 모델들 : https://pytorch.org/vision/stable/models.html 참고\n",
        "print(model)"
      ],
      "execution_count": null,
      "outputs": []
    },
    {
      "cell_type": "code",
      "metadata": {
        "id": "aZsUD9ShGNMG"
      },
      "source": [
        "\n",
        "model.fc=nn.Linear(in_features=2520, out_features=6) # 마지막 출력층을 나의 class 수에 맞춰서 바꿔준다.\n",
        "print(model) # 바뀐모델 구조 출력\n",
        "\n",
        "model = model.to(device) # 모델을 gpu로\n",
        "criterion = nn.CrossEntropyLoss() # 손실함수(loss function) 크로스 엔트로피 사용\n"
      ],
      "execution_count": null,
      "outputs": []
    },
    {
      "cell_type": "code",
      "metadata": {
        "id": "MtR579R9UPsT"
      },
      "source": [
        "# 최적화 기법 설정\n",
        "optimizer = optim.SGD(model.parameters(), lr=0.001, momentum=0.9) # optimizer sgd, 학습률 0.001\n"
      ],
      "execution_count": null,
      "outputs": []
    },
    {
      "cell_type": "code",
      "metadata": {
        "id": "QFeeulK1v2EW"
      },
      "source": [
        "from torchsummary import summary\n",
        "summary(model, input_size=(3, 224, 224))"
      ],
      "execution_count": null,
      "outputs": []
    },
    {
      "cell_type": "code",
      "metadata": {
        "id": "-_7RfzqeQedJ"
      },
      "source": [
        "def train_model(model, criterion, optimizer, num_epochs=50): # training 함수 정의\n",
        "    since = time.time()\n",
        "\n",
        "    best_model_wts = copy.deepcopy(model.state_dict())\n",
        "    best_acc = 0.0\n",
        "    train_loss, train_acc, valid_loss, valid_acc = [], [], [], []\n",
        "    \n",
        "    for epoch in range(num_epochs):\n",
        "        print('Epoch {}/{}'.format(epoch, num_epochs - 1))\n",
        "        print('-' * 10)\n",
        "\n",
        "        # Each epoch has a training and validation phase\n",
        "        for phase in ['train', 'val']:\n",
        "            if phase == 'train':\n",
        "                model.train()  # Set model to training mode\n",
        "            else:\n",
        "                model.eval()   # Set model to evaluate mode\n",
        "\n",
        "            running_loss, running_corrects, num_cnt = 0.0, 0, 0\n",
        "            \n",
        "            # Iterate over data.\n",
        "            for inputs, labels in dataloaders[phase]:\n",
        "                inputs = inputs.to(device)\n",
        "                labels = labels.to(device)\n",
        "\n",
        "                # zero the parameter gradients\n",
        "                optimizer.zero_grad()\n",
        "\n",
        "                # forward\n",
        "                # track history if only in train\n",
        "                with torch.set_grad_enabled(phase == 'train'):\n",
        "                    outputs = model(inputs)\n",
        "                    _, preds = torch.max(outputs, 1)\n",
        "                    loss = criterion(outputs, labels)\n",
        "\n",
        "                    # backward + optimize only if in training phase\n",
        "                    if phase == 'train':\n",
        "                        loss.backward()\n",
        "                        optimizer.step()\n",
        "\n",
        "                # statistics\n",
        "                running_loss += loss.item() * inputs.size(0)\n",
        "                running_corrects += torch.sum(preds == labels.data)\n",
        "                num_cnt += len(labels)\n",
        "           # if phase == 'train':\n",
        "            #    scheduler.step()\n",
        "            \n",
        "            epoch_loss = float(running_loss / num_cnt)\n",
        "            epoch_acc  = float((running_corrects.double() / num_cnt).cpu()*100)\n",
        "            \n",
        "            if phase == 'train':\n",
        "                train_loss.append(epoch_loss)\n",
        "                train_acc.append(epoch_acc)\n",
        "            else:\n",
        "                valid_loss.append(epoch_loss)\n",
        "                valid_acc.append(epoch_acc)\n",
        "            print('{} Loss: {:.4f} Acc: {:.4f}'.format(phase, epoch_loss, epoch_acc))\n",
        "           \n",
        "            # deep copy the model \n",
        "            if phase == 'val' and epoch_acc > best_acc:\n",
        "                best_idx = epoch\n",
        "                best_acc = epoch_acc\n",
        "                best_model_wts = copy.deepcopy(model.state_dict())\n",
        "#                 best_model_wts = copy.deepcopy(model.module.state_dict())\n",
        "                print('==> best model saved - %d / %.1f'%(best_idx, best_acc))\n",
        "\n",
        "    time_elapsed = time.time() - since\n",
        "    print('Training complete in {:.0f}m {:.0f}s'.format(time_elapsed // 60, time_elapsed % 60))\n",
        "    print('Best valid Acc: %d - %.1f' %(best_idx, best_acc))\n",
        "\n",
        "    # load best model weights\n",
        "    model.load_state_dict(best_model_wts) # accuracy best model 을 저장 한다.\n",
        "    torch.save(model.state_dict(), '/content/drive/MyDrive/MODELS/non_reg1_2.pt') # 모델을 저장할 자신의 경로 설정\n",
        "    print('model saved')\n",
        "    return model, best_idx, best_acc, train_loss, train_acc, valid_loss, valid_acc"
      ],
      "execution_count": null,
      "outputs": []
    },
    {
      "cell_type": "code",
      "metadata": {
        "id": "Tw2p7muAQowc"
      },
      "source": [
        "model, best_idx, best_acc, train_loss, train_acc, valid_loss, valid_acc = train_model(model, criterion, optimizer,num_epochs=100)"
      ],
      "execution_count": null,
      "outputs": []
    },
    {
      "cell_type": "code",
      "metadata": {
        "id": "ZCk0WR5qZAiv"
      },
      "source": [
        "# 모델 시각화 train, val 의 accuracy , loss 시각화\n",
        "print('best model : %d - %1.f / %.1f'%(best_idx, valid_acc[best_idx], valid_loss[best_idx]))\n",
        "fig, ax1 = plt.subplots()\n",
        "\n",
        "ax1.plot(train_acc, 'b-')\n",
        "ax1.plot(valid_acc, 'r-')\n",
        "plt.plot(best_idx, valid_acc[best_idx], 'ro')\n",
        "ax1.set_xlabel('epoch')\n",
        "# Make the y-axis label, ticks and tick labels match the line color.\n",
        "ax1.set_ylabel('acc', color='k')\n",
        "ax1.tick_params('y', colors='k')\n",
        "\n",
        "ax2 = ax1.twinx()\n",
        "ax2.plot(train_loss, 'g-')\n",
        "ax2.plot(valid_loss, 'k-')\n",
        "plt.plot(best_idx, valid_loss[best_idx], 'ro')\n",
        "ax2.set_ylabel('loss', color='k')\n",
        "ax2.tick_params('y', colors='k')\n",
        "\n",
        "fig.tight_layout()\n",
        "plt.show()"
      ],
      "execution_count": null,
      "outputs": []
    },
    {
      "cell_type": "code",
      "metadata": {
        "id": "NL_b5LIyH55f"
      },
      "source": [
        "for x in range(3):\n",
        "  visualize_model(model) # val 이미지 모델 예측값 시각화"
      ],
      "execution_count": null,
      "outputs": []
    },
    {
      "cell_type": "code",
      "source": [
        "def test_visualize_model(model, num_images=4): # test 일부 이미지에대한 예측값을 보여주는 함수\n",
        "    was_training = model.training\n",
        "    model.eval() # 모델을 검증모드로\n",
        "    images_so_far = 0\n",
        "    fig = plt.figure() #figure를 만들고 편집 할 수 있게 만들어주는 함수\n",
        "\n",
        "    with torch.no_grad():\n",
        "        for i, (inputs, labels) in enumerate(dataloaders['test']):\n",
        "            inputs = inputs.to(device)\n",
        "            labels = labels.to(device)\n",
        "\n",
        "            outputs = model(inputs)\n",
        "            _, preds = torch.max(outputs, 1)\n",
        "\n",
        "            for j in range(inputs.size()[0]):\n",
        "                images_so_far += 1\n",
        "                ax = plt.subplot(num_images//2, 2, images_so_far)\n",
        "                ax.axis('off')\n",
        "                ax.set_title('predicted: {}'.format(class_names[preds[j]])) # 가장 높은확률의 이름 출력\n",
        "                imshow(inputs.cpu().data[j]) # 예측하려고 입력된 이미지 보여주기\n",
        "\n",
        "                if images_so_far == num_images:\n",
        "                    model.train(mode=was_training)\n",
        "                    return\n",
        "        model.train(mode=was_training)"
      ],
      "metadata": {
        "id": "MK0eYuJXIRqx"
      },
      "execution_count": null,
      "outputs": []
    },
    {
      "cell_type": "code",
      "source": [
        "for x in range(10):\n",
        "  test_visualize_model(model) # test 이미지 모델 예측값 시각화"
      ],
      "metadata": {
        "id": "kqFtcQFIqmft"
      },
      "execution_count": null,
      "outputs": []
    },
    {
      "cell_type": "code",
      "metadata": {
        "id": "ri2JlW-qLPi1"
      },
      "source": [
        "# 각 항목별 정확도 및 컨퓨전 매트릭스 \n",
        "from sklearn.metrics import classification_report\n",
        "import matplotlib.pyplot as plt \n",
        "nb_classes = 6\n",
        "\n",
        "confusion_matrix = torch.zeros(nb_classes, nb_classes)\n",
        "with torch.no_grad():\n",
        "    for i, (inputs, classes) in enumerate(dataloaders['test']):\n",
        "        inputs = inputs.to(device)\n",
        "        classes = classes.to(device)\n",
        "        outputs = model(inputs)\n",
        "        _, preds = torch.max(outputs, 1)\n",
        "        for t, p in zip(classes.view(-1), preds.view(-1)):\n",
        "                confusion_matrix[t.long(), p.long()] += 1\n",
        "\n",
        "\n",
        "print('        g80', '    gv80', '   Selots', ' avateAD', 'sonataLF', 'tucson17')\n",
        "print(confusion_matrix.diag()/confusion_matrix.sum(1))\n"
      ],
      "execution_count": null,
      "outputs": []
    },
    {
      "cell_type": "code",
      "source": [
        "# 컨퓨전 매트릭스 heatmap 그리기\n",
        "import seaborn as sns\n",
        "\n",
        "ax= plt.subplot()\n",
        "sns.heatmap(confusion_matrix, annot=True, fmt='g', ax=ax);  #annot=True to annotate cells, ftm='g' to disable scientific notation\n",
        "\n",
        "# labels, title and ticks\n",
        "ax.set_xlabel('Predicted labels');ax.set_ylabel('True labels'); \n",
        "ax.set_title('Confusion Matrix'); \n",
        "ax.xaxis.set_ticklabels(['g80', 'gv80', 'Selots', 'avateAD', 'sonataLF', 'tucson17']); ax.yaxis.set_ticklabels(['g80', 'gv80', 'Selots', 'avateAD', 'sonataLF', 'tucson17']);\n"
      ],
      "metadata": {
        "id": "b4eLW7C2rSjX"
      },
      "execution_count": null,
      "outputs": []
    },
    {
      "cell_type": "code",
      "source": [
        "## 저장된 모델 경로 지정 하고 불러와서 추론 \n",
        "from torchvision import models\n",
        "import torch\n",
        "\n",
        "model=models.regnet_x_32gf(pretrained=False)\n",
        "model.fc=nn.Linear(in_features=2520, out_features=6) \n",
        "\n",
        "model.load_state_dict(torch.load(\"/content/drive/MyDrive/MODELS/non_reg1_2.pt\", map_location=torch.device('cpu')))\n",
        "model = model.to(device)"
      ],
      "metadata": {
        "id": "POR5r8LwSiKl"
      },
      "execution_count": null,
      "outputs": []
    },
    {
      "cell_type": "code",
      "source": [
        "def test_visualize_model(model, num_images=2): # test Image  예측값을 보여주는 함수\n",
        "    was_training = model.training\n",
        "    model.eval() # 모델을 검증모드로\n",
        "    images_so_far = 0\n",
        "    fig = plt.figure() # figure를 만들고 편집 할 수 있게 만들어주는 함수\n",
        "\n",
        "    with torch.no_grad():\n",
        "        for i, (inputs, labels) in enumerate(dataloaders['test']):\n",
        "            inputs = inputs.to(device)\n",
        "            labels = labels.to(device)\n",
        "\n",
        "            outputs = model(inputs)\n",
        "            _, preds = torch.max(outputs, 1)\n",
        "\n",
        "            for j in range(inputs.size()[0]):\n",
        "                images_so_far += 1\n",
        "                ax = plt.subplot(num_images//2, 2, images_so_far)\n",
        "                ax.axis('off')\n",
        "                ax.set_title('predicted: {}'.format(class_names[preds[j]])) # 가장 높은확률의 이름 출력\n",
        "                imshow(inputs.cpu().data[j]) # 예측하려고 입력된 이미지 보여주기\n",
        "\n",
        "                if images_so_far == num_images:\n",
        "                    model.train(mode=was_training)\n",
        "                    return\n",
        "        model.train(mode=was_training)"
      ],
      "metadata": {
        "id": "1eOsj0zuMFP_"
      },
      "execution_count": null,
      "outputs": []
    },
    {
      "cell_type": "code",
      "source": [
        "for x in range(20): # 2개씩 20번 반복 40장\n",
        "  test_visualize_model(model) # test 이미지 모델 예측값 시각화"
      ],
      "metadata": {
        "id": "x-YwmZL-MIN4"
      },
      "execution_count": null,
      "outputs": []
    }
  ]
}